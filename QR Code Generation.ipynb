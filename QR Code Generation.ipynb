{
 "cells": [
  {
   "cell_type": "code",
   "execution_count": 5,
   "id": "254fc0ac",
   "metadata": {},
   "outputs": [],
   "source": [
    "#Import the library\n",
    "import qrcode\n",
    "\n",
    "# Generate the QR code\n",
    "img = qrcode.make('https://www.linkedin.com/in/pratiksha-sahoo/')\n",
    "\n",
    "#Save the QR code image using an image extension\n",
    "img.save(\"Pratiksha Sahoo's LinkedIn QRCode.png\")"
   ]
  }
 ],
 "metadata": {
  "kernelspec": {
   "display_name": "Python 3 (ipykernel)",
   "language": "python",
   "name": "python3"
  },
  "language_info": {
   "codemirror_mode": {
    "name": "ipython",
    "version": 3
   },
   "file_extension": ".py",
   "mimetype": "text/x-python",
   "name": "python",
   "nbconvert_exporter": "python",
   "pygments_lexer": "ipython3",
   "version": "3.9.13"
  }
 },
 "nbformat": 4,
 "nbformat_minor": 5
}
